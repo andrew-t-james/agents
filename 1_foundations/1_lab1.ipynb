{
 "cells": [
  {
   "cell_type": "markdown",
   "metadata": {},
   "source": [
    "# Welcome to the start of your adventure in Agentic AI"
   ]
  },
  {
   "cell_type": "markdown",
   "metadata": {},
   "source": [
    "<table style=\"margin: 0; text-align: left; width:100%\">\n",
    "    <tr>\n",
    "        <td style=\"width: 150px; height: 150px; vertical-align: middle;\">\n",
    "            <img src=\"../assets/stop.png\" width=\"150\" height=\"150\" style=\"display: block;\" />\n",
    "        </td>\n",
    "        <td>\n",
    "            <h2 style=\"color:#ff7800;\">Are you ready for action??</h2>\n",
    "            <span style=\"color:#ff7800;\">Have you completed all the setup steps in the <a href=\"../setup/\">setup</a> folder?<br/>\n",
    "            Have you checked out the guides in the <a href=\"../guides/\">guides</a> folder?<br/>\n",
    "            Well in that case, you're ready!!\n",
    "            </span>\n",
    "        </td>\n",
    "    </tr>\n",
    "</table>"
   ]
  },
  {
   "cell_type": "markdown",
   "metadata": {},
   "source": [
    "<table style=\"margin: 0; text-align: left; width:100%\">\n",
    "    <tr>\n",
    "        <td style=\"width: 150px; height: 150px; vertical-align: middle;\">\n",
    "            <img src=\"../assets/tools.png\" width=\"150\" height=\"150\" style=\"display: block;\" />\n",
    "        </td>\n",
    "        <td>\n",
    "            <h2 style=\"color:#00bfff;\">Treat these labs as a resource</h2>\n",
    "            <span style=\"color:#00bfff;\">I push updates to the code regularly. When people ask questions or have problems, I incorporate it in the code, adding more examples or improved commentary. As a result, you'll notice that the code below isn't identical to the videos. Everything from the videos is here; but in addition, I've added more steps and better explanations. Consider this like an interactive book that accompanies the lectures.\n",
    "            </span>\n",
    "        </td>\n",
    "    </tr>\n",
    "</table>"
   ]
  },
  {
   "cell_type": "markdown",
   "metadata": {},
   "source": [
    "### And please do remember to contact me if I can help\n",
    "\n",
    "And I love to connect: https://www.linkedin.com/in/eddonner/\n",
    "\n",
    "\n",
    "### New to Notebooks like this one? Head over to the guides folder!\n",
    "\n",
    "Otherwise:\n",
    "1. Click where it says \"Select Kernel\" near the top right, and select the option called `.venv (Python 3.12.9)` or similar, which should be the first choice or the most prominent choice.\n",
    "2. Click in each \"cell\" below, starting with the cell immediately below this text, and press Shift+Enter to run\n",
    "3. Enjoy!"
   ]
  },
  {
   "cell_type": "code",
   "execution_count": 1,
   "metadata": {},
   "outputs": [],
   "source": [
    "# First let's do an import\n",
    "from dotenv import load_dotenv\n"
   ]
  },
  {
   "cell_type": "code",
   "execution_count": 2,
   "metadata": {},
   "outputs": [
    {
     "data": {
      "text/plain": [
       "False"
      ]
     },
     "execution_count": 2,
     "metadata": {},
     "output_type": "execute_result"
    }
   ],
   "source": [
    "# Next it's time to load the API keys into environment variables\n",
    "\n",
    "load_dotenv(override=True)"
   ]
  },
  {
   "cell_type": "code",
   "execution_count": 3,
   "metadata": {},
   "outputs": [
    {
     "name": "stdout",
     "output_type": "stream",
     "text": [
      "OpenAI API Key exists and begins sk-6nImz\n"
     ]
    }
   ],
   "source": [
    "# Check the keys\n",
    "\n",
    "import os\n",
    "openai_api_key = os.getenv('OPENAI_API_KEY')\n",
    "\n",
    "if openai_api_key:\n",
    "    print(f\"OpenAI API Key exists and begins {openai_api_key[:8]}\")\n",
    "else:\n",
    "    print(\"OpenAI API Key not set - please head to the troubleshooting guide in the guides folder\")\n",
    "    \n"
   ]
  },
  {
   "cell_type": "code",
   "execution_count": 4,
   "metadata": {},
   "outputs": [],
   "source": [
    "# And now - the all important import statement\n",
    "# If you get an import error - head over to troubleshooting guide\n",
    "\n",
    "from openai import OpenAI"
   ]
  },
  {
   "cell_type": "code",
   "execution_count": 5,
   "metadata": {},
   "outputs": [],
   "source": [
    "# And now we'll create an instance of the OpenAI class\n",
    "# If you're not sure what it means to create an instance of a class - head over to the guides folder!\n",
    "# If you get a NameError - head over to the guides folder to learn about NameErrors\n",
    "\n",
    "openai = OpenAI()"
   ]
  },
  {
   "cell_type": "code",
   "execution_count": 6,
   "metadata": {},
   "outputs": [],
   "source": [
    "# Create a list of messages in the familiar OpenAI format\n",
    "\n",
    "messages = [{\"role\": \"user\", \"content\": \"What is 2+2?\"}]"
   ]
  },
  {
   "cell_type": "code",
   "execution_count": 8,
   "metadata": {},
   "outputs": [
    {
     "name": "stdout",
     "output_type": "stream",
     "text": [
      "2 + 2 equals 4.\n"
     ]
    }
   ],
   "source": [
    "# And now call it! Any problems, head to the troubleshooting guide\n",
    "\n",
    "response = openai.chat.completions.create(\n",
    "    model=\"gpt-4o-mini\",\n",
    "    messages=messages\n",
    ")\n",
    "\n",
    "print(response.choices[0].message.content)\n"
   ]
  },
  {
   "cell_type": "code",
   "execution_count": 9,
   "metadata": {},
   "outputs": [],
   "source": [
    "# And now - let's ask for a question:\n",
    "\n",
    "question = \"Please propose a hard, challenging question to assess someone's IQ. Respond only with the question.\"\n",
    "messages = [{\"role\": \"user\", \"content\": question}]\n"
   ]
  },
  {
   "cell_type": "code",
   "execution_count": 10,
   "metadata": {},
   "outputs": [
    {
     "name": "stdout",
     "output_type": "stream",
     "text": [
      "If you have a 3-dimensional cube made of 27 smaller cubes (3x3x3), how many of the smaller cubes will be completely hidden when the larger cube is painted on all outside faces and then disassembled?\n"
     ]
    }
   ],
   "source": [
    "# ask it\n",
    "response = openai.chat.completions.create(\n",
    "    model=\"gpt-4o-mini\",\n",
    "    messages=messages\n",
    ")\n",
    "\n",
    "question = response.choices[0].message.content\n",
    "\n",
    "print(question)\n"
   ]
  },
  {
   "cell_type": "code",
   "execution_count": 11,
   "metadata": {},
   "outputs": [],
   "source": [
    "# form a new messages list\n",
    "messages = [{\"role\": \"user\", \"content\": question}]\n"
   ]
  },
  {
   "cell_type": "code",
   "execution_count": 12,
   "metadata": {},
   "outputs": [
    {
     "name": "stdout",
     "output_type": "stream",
     "text": [
      "To determine how many of the smaller cubes are completely hidden when a larger cube, made from 27 smaller cubes arranged in a 3x3x3 format, is painted on all its outer faces and then disassembled, we need to analyze the structure of the larger cube.\n",
      "\n",
      "1. The larger cube consists of \\( 3 \\times 3 \\times 3 = 27 \\) smaller cubes.\n",
      "2. The outer layer of smaller cubes forms the surface of the larger cube. The cubes that are in the interior of the larger cube will not be exposed to the surface when it is painted.\n",
      "3. In a 3x3x3 cube, the smaller cubes that are completely hidden (i.e., not on the outer layer) are those that are fully surrounded by other cubes. In a 3-dimensional arrangement, this only includes the smaller cube located in the center of the larger cube.\n",
      "\n",
      "To identify the number of completely hidden smaller cubes:\n",
      "\n",
      "- The outer layer includes:\n",
      "  - The top face: 9 cubes\n",
      "  - The bottom face: 9 cubes\n",
      "  - The four side faces: Each side has 3 cubes in the middle row (with overlap counted for edges), adding up to:\n",
      "    \\[\n",
      "    (4 \\text{ sides}) \\times (3 \\text{ cubes each}) = 12 \\text{ cubes}\n",
      "    \\]\n",
      "  However, when we count the sides, we must ensure we don't double-count the edge cubes and corners.\n",
      "\n",
      "4. Only the center cube, which is located at position (2, 2, 2) in a 3-dimensional coordinate grid (where coordinates can range from 1 to 3 for each dimension), remains entirely unexposed:\n",
      "   \\[\n",
      "   \\text{Hidden cube at } (2, 2, 2).\n",
      "   \\]\n",
      "\n",
      "This is the only cube that is fully surrounded by the other cubes and experiences no exposure whatsoever to the painted surface.\n",
      "\n",
      "Thus, the total number of smaller cubes that will be completely hidden after the larger cube is painted and disassembled is:\n",
      "\n",
      "\\[\n",
      "\\boxed{1}\n",
      "\\]\n"
     ]
    }
   ],
   "source": [
    "# Ask it again\n",
    "\n",
    "response = openai.chat.completions.create(\n",
    "    model=\"gpt-4o-mini\",\n",
    "    messages=messages\n",
    ")\n",
    "\n",
    "answer = response.choices[0].message.content\n",
    "print(answer)\n"
   ]
  },
  {
   "cell_type": "code",
   "execution_count": 13,
   "metadata": {},
   "outputs": [
    {
     "data": {
      "text/markdown": [
       "To determine how many of the smaller cubes are completely hidden when a larger cube, made from 27 smaller cubes arranged in a 3x3x3 format, is painted on all its outer faces and then disassembled, we need to analyze the structure of the larger cube.\n",
       "\n",
       "1. The larger cube consists of \\( 3 \\times 3 \\times 3 = 27 \\) smaller cubes.\n",
       "2. The outer layer of smaller cubes forms the surface of the larger cube. The cubes that are in the interior of the larger cube will not be exposed to the surface when it is painted.\n",
       "3. In a 3x3x3 cube, the smaller cubes that are completely hidden (i.e., not on the outer layer) are those that are fully surrounded by other cubes. In a 3-dimensional arrangement, this only includes the smaller cube located in the center of the larger cube.\n",
       "\n",
       "To identify the number of completely hidden smaller cubes:\n",
       "\n",
       "- The outer layer includes:\n",
       "  - The top face: 9 cubes\n",
       "  - The bottom face: 9 cubes\n",
       "  - The four side faces: Each side has 3 cubes in the middle row (with overlap counted for edges), adding up to:\n",
       "    \\[\n",
       "    (4 \\text{ sides}) \\times (3 \\text{ cubes each}) = 12 \\text{ cubes}\n",
       "    \\]\n",
       "  However, when we count the sides, we must ensure we don't double-count the edge cubes and corners.\n",
       "\n",
       "4. Only the center cube, which is located at position (2, 2, 2) in a 3-dimensional coordinate grid (where coordinates can range from 1 to 3 for each dimension), remains entirely unexposed:\n",
       "   \\[\n",
       "   \\text{Hidden cube at } (2, 2, 2).\n",
       "   \\]\n",
       "\n",
       "This is the only cube that is fully surrounded by the other cubes and experiences no exposure whatsoever to the painted surface.\n",
       "\n",
       "Thus, the total number of smaller cubes that will be completely hidden after the larger cube is painted and disassembled is:\n",
       "\n",
       "\\[\n",
       "\\boxed{1}\n",
       "\\]"
      ],
      "text/plain": [
       "<IPython.core.display.Markdown object>"
      ]
     },
     "metadata": {},
     "output_type": "display_data"
    }
   ],
   "source": [
    "from IPython.display import Markdown, display\n",
    "\n",
    "display(Markdown(answer))\n",
    "\n"
   ]
  },
  {
   "cell_type": "markdown",
   "metadata": {},
   "source": [
    "# Congratulations!\n",
    "\n",
    "That was a small, simple step in the direction of Agentic AI, with your new environment!\n",
    "\n",
    "Next time things get more interesting..."
   ]
  },
  {
   "cell_type": "markdown",
   "metadata": {},
   "source": [
    "<table style=\"margin: 0; text-align: left; width:100%\">\n",
    "    <tr>\n",
    "        <td style=\"width: 150px; height: 150px; vertical-align: middle;\">\n",
    "            <img src=\"../assets/exercise.png\" width=\"150\" height=\"150\" style=\"display: block;\" />\n",
    "        </td>\n",
    "        <td>\n",
    "            <h2 style=\"color:#ff7800;\">Exercise</h2>\n",
    "            <span style=\"color:#ff7800;\">Now try this commercial application:<br/>\n",
    "            First ask the LLM to pick a business area that might be worth exploring for an Agentic AI opportunity.<br/>\n",
    "            Then ask the LLM to present a pain-point in that industry - something challenging that might be ripe for an Agentic solution.<br/>\n",
    "            Finally have 3 third LLM call propose the Agentic AI solution.\n",
    "            </span>\n",
    "        </td>\n",
    "    </tr>\n",
    "</table>"
   ]
  },
  {
   "cell_type": "code",
   "execution_count": 22,
   "metadata": {},
   "outputs": [
    {
     "data": {
      "text/markdown": [
       "As an expat running a business in America, you can receive your salary in a foreign bank account, which may provide tax advantages depending on your home country's tax treaties with the U.S. However, it's essential to comply with both U.S. tax laws and your home country's regulations to avoid legal complications."
      ],
      "text/plain": [
       "<IPython.core.display.Markdown object>"
      ]
     },
     "metadata": {},
     "output_type": "display_data"
    },
    {
     "data": {
      "text/markdown": [
       "Living abroad as a sole proprietor can present challenges such as navigating complex tax obligations in both your host and home countries, along with potential currency exchange risks. Additionally, managing business operations remotely may complicate communication, customer service, and adherence to local regulations."
      ],
      "text/plain": [
       "<IPython.core.display.Markdown object>"
      ]
     },
     "metadata": {},
     "output_type": "display_data"
    },
    {
     "data": {
      "text/markdown": [
       "An Agentic AI solution could automate compliance and tax calculations for sole proprietors living abroad, integrating real-time data on local regulations and currency exchange rates. This AI could provide personalized financial insights and recommendations, streamlining operations and reducing the administrative burden of managing a cross-border business."
      ],
      "text/plain": [
       "<IPython.core.display.Markdown object>"
      ]
     },
     "metadata": {},
     "output_type": "display_data"
    }
   ],
   "source": [
    "# First create the messages:\n",
    "messages = [{\"role\": \"user\", \"content\": \"Limit answer to a couple sentences. Discuss being an expat and having a business in America where you draw your salary abroad legally.\"}]\n",
    "\n",
    "# Make the first call:\n",
    "response = openai.chat.completions.create(\n",
    "    model=\"gpt-4o-mini\",\n",
    "    messages=messages\n",
    ")\n",
    "\n",
    "# Get the assistant's response\n",
    "assistant_response = response.choices[0].message.content\n",
    "# Add the assistant's response to messages\n",
    "messages.append({\"role\": \"assistant\", \"content\": assistant_response})\n",
    "\n",
    "display(Markdown(assistant_response))\n",
    "\n",
    "# Add your next question while maintaining context\n",
    "messages.append({\"role\": \"user\", \"content\": \"Limit answer to a couple sentences. Present challenges of living abroad and drawing your salary as a sole proprietor\"})\n",
    "\n",
    "# Make the second call with full conversation history\n",
    "response = openai.chat.completions.create(\n",
    "    model=\"gpt-4o-mini\",\n",
    "    messages=messages\n",
    ")\n",
    "\n",
    "business_idea = response.choices[0].message.content\n",
    "# Add this response to messages as well for future exchanges\n",
    "messages.append({\"role\": \"assistant\", \"content\": business_idea})\n",
    "\n",
    "display(Markdown(business_idea))\n",
    "\n",
    "messages.append({\"role\": \"user\", \"content\": \"Limit answer to a couple sentences. Come up with an Agentic AI solution\"})\n",
    "\n",
    "# Make the second call with full conversation history\n",
    "response = openai.chat.completions.create(\n",
    "    model=\"gpt-4o-mini\",\n",
    "    messages=messages\n",
    ")\n",
    "\n",
    "business_idea = response.choices[0].message.content\n",
    "# Add this response to messages as well for future exchanges\n",
    "messages.append({\"role\": \"assistant\", \"content\": business_idea})\n",
    "display(Markdown(business_idea))\n"
   ]
  },
  {
   "cell_type": "markdown",
   "metadata": {},
   "source": []
  }
 ],
 "metadata": {
  "kernelspec": {
   "display_name": "Python 3 (ipykernel)",
   "language": "python",
   "name": "python3"
  },
  "language_info": {
   "codemirror_mode": {
    "name": "ipython",
    "version": 3
   },
   "file_extension": ".py",
   "mimetype": "text/x-python",
   "name": "python",
   "nbconvert_exporter": "python",
   "pygments_lexer": "ipython3",
   "version": "3.12.10"
  }
 },
 "nbformat": 4,
 "nbformat_minor": 4
}
